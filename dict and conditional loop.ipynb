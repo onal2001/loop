{
 "cells": [
  {
   "cell_type": "code",
   "execution_count": 1,
   "id": "984c48a2-21bb-4898-8139-ec651bbb3cd8",
   "metadata": {},
   "outputs": [],
   "source": [
    "d={'name':'sonsa','class':'bca'}"
   ]
  },
  {
   "cell_type": "code",
   "execution_count": 2,
   "id": "c9940472-6a0f-48e6-87a9-85d93e34b086",
   "metadata": {},
   "outputs": [
    {
     "data": {
      "text/plain": [
       "{'name': 'sonsa', 'class': 'bca'}"
      ]
     },
     "execution_count": 2,
     "metadata": {},
     "output_type": "execute_result"
    }
   ],
   "source": [
    "d"
   ]
  },
  {
   "cell_type": "code",
   "execution_count": 3,
   "id": "4f0b0412-18dc-4b0d-a6e3-e2d03c31d19c",
   "metadata": {},
   "outputs": [
    {
     "data": {
      "text/plain": [
       "'sonsa'"
      ]
     },
     "execution_count": 3,
     "metadata": {},
     "output_type": "execute_result"
    }
   ],
   "source": [
    "d['name']"
   ]
  },
  {
   "cell_type": "code",
   "execution_count": 7,
   "id": "fd4b8bbf-31f8-42ef-b7df-d04b6a540459",
   "metadata": {},
   "outputs": [],
   "source": [
    "d1={'number':[12,3,4,5,4,True],'set':{'neem'}}"
   ]
  },
  {
   "cell_type": "code",
   "execution_count": 8,
   "id": "d6c56719-a835-4e06-968b-e9fa857a73a8",
   "metadata": {},
   "outputs": [
    {
     "data": {
      "text/plain": [
       "{'number': [12, 3, 4, 5, 4, True], 'set': {'neem'}}"
      ]
     },
     "execution_count": 8,
     "metadata": {},
     "output_type": "execute_result"
    }
   ],
   "source": [
    "d1"
   ]
  },
  {
   "cell_type": "code",
   "execution_count": 9,
   "id": "6d797ddc-863d-4080-81a4-24573e70ae80",
   "metadata": {},
   "outputs": [
    {
     "data": {
      "text/plain": [
       "{'neem'}"
      ]
     },
     "execution_count": 9,
     "metadata": {},
     "output_type": "execute_result"
    }
   ],
   "source": [
    "d1['set']"
   ]
  },
  {
   "cell_type": "code",
   "execution_count": 10,
   "id": "0d3c06ef-73b7-468e-b061-920c4e7eb5f9",
   "metadata": {},
   "outputs": [],
   "source": [
    "d1['jeet']=['sonal',23,43]"
   ]
  },
  {
   "cell_type": "code",
   "execution_count": 11,
   "id": "747849ce-01ee-4183-9ac6-12dcab7dff13",
   "metadata": {},
   "outputs": [
    {
     "data": {
      "text/plain": [
       "{'number': [12, 3, 4, 5, 4, True], 'set': {'neem'}, 'jeet': ['sonal', 23, 43]}"
      ]
     },
     "execution_count": 11,
     "metadata": {},
     "output_type": "execute_result"
    }
   ],
   "source": [
    "d1"
   ]
  },
  {
   "cell_type": "code",
   "execution_count": null,
   "id": "80a02ec3-e887-4dc5-9a19-e04958d7ec82",
   "metadata": {},
   "outputs": [],
   "source": [
    "del d1['set']"
   ]
  },
  {
   "cell_type": "code",
   "execution_count": 17,
   "id": "f6ad04b8-6301-4d7c-bc6b-db42393d3368",
   "metadata": {},
   "outputs": [
    {
     "data": {
      "text/plain": [
       "{'number': [12, 3, 4, 5, 4, True], 'set': {'neem'}, 'jeet': ['sonal', 23, 43]}"
      ]
     },
     "execution_count": 17,
     "metadata": {},
     "output_type": "execute_result"
    }
   ],
   "source": [
    "d1"
   ]
  },
  {
   "cell_type": "code",
   "execution_count": 19,
   "id": "077a3865-5295-4ae1-882d-306d1ea5dd8a",
   "metadata": {},
   "outputs": [
    {
     "ename": "TypeError",
     "evalue": "pop expected at least 1 argument, got 0",
     "output_type": "error",
     "traceback": [
      "\u001b[0;31m---------------------------------------------------------------------------\u001b[0m",
      "\u001b[0;31mTypeError\u001b[0m                                 Traceback (most recent call last)",
      "Cell \u001b[0;32mIn[19], line 1\u001b[0m\n\u001b[0;32m----> 1\u001b[0m \u001b[43md1\u001b[49m\u001b[38;5;241;43m.\u001b[39;49m\u001b[43mpop\u001b[49m\u001b[43m(\u001b[49m\u001b[43m)\u001b[49m\n",
      "\u001b[0;31mTypeError\u001b[0m: pop expected at least 1 argument, got 0"
     ]
    }
   ],
   "source": [
    "d1.pop()"
   ]
  },
  {
   "cell_type": "code",
   "execution_count": 26,
   "id": "84d1a77f-82ba-4140-84de-60d057f4c135",
   "metadata": {},
   "outputs": [
    {
     "name": "stdout",
     "output_type": "stream",
     "text": [
      "you will be a part of batch\n"
     ]
    }
   ],
   "source": [
    "n=(\"enter your number\")\n",
    "if marks<=80:\n",
    "    print('you will be a part of batch')\n",
    "else:\n",
    "    print('you will not be a part of batch')\n",
    "    "
   ]
  },
  {
   "cell_type": "code",
   "execution_count": 34,
   "id": "31645f58-4e14-4321-ac77-a38065ed7f50",
   "metadata": {},
   "outputs": [
    {
     "name": "stdin",
     "output_type": "stream",
     "text": [
      "enter your number 67\n"
     ]
    },
    {
     "name": "stdout",
     "output_type": "stream",
     "text": [
      " you are in b grade\n"
     ]
    }
   ],
   "source": [
    "marks=int(input(\"enter your number\"))\n",
    "if marks >=80:\n",
    "    print('you are in a grade')\n",
    "elif marks >60 and marks <=75:\n",
    "    print (' you are in b grade')\n",
    "else :\n",
    "    print('you will fail')"
   ]
  },
  {
   "cell_type": "code",
   "execution_count": 37,
   "id": "4cec0ea6-f1f2-45fc-9074-fd099ea8ab18",
   "metadata": {},
   "outputs": [
    {
     "name": "stdin",
     "output_type": "stream",
     "text": [
      "enter your marks 3000\n"
     ]
    },
    {
     "name": "stdout",
     "output_type": "stream",
     "text": [
      "i will buy prot\n"
     ]
    }
   ],
   "source": [
    "marks=int(input(\"enter your marks\"))\n",
    "if marks >=5000:\n",
    "    print(\"i will buy cloths\")\n",
    "elif marks >2000 and marks <=4000:\n",
    "    print (\"i will buy prot\")\n",
    "else:\n",
    "    print (\" i will not buy\")"
   ]
  },
  {
   "cell_type": "code",
   "execution_count": 42,
   "id": "8843ba4c-25f8-41fd-80e7-00e01bf95827",
   "metadata": {},
   "outputs": [
    {
     "name": "stdin",
     "output_type": "stream",
     "text": [
      "enter your price 7000\n"
     ]
    },
    {
     "name": "stdout",
     "output_type": "stream",
     "text": [
      "i cant take something\n",
      "this is too much \n"
     ]
    }
   ],
   "source": [
    "price=int(input(\"enter your price\"))\n",
    "if price>=5000:\n",
    "          print(\"i cant take something\")\n",
    "          print(\"this is too much \")\n",
    "        "
   ]
  },
  {
   "cell_type": "code",
   "execution_count": null,
   "id": "7abb6934-6279-4d59-b2ae-0b0913f1116a",
   "metadata": {},
   "outputs": [],
   "source": []
  }
 ],
 "metadata": {
  "kernelspec": {
   "display_name": "Python 3 (ipykernel)",
   "language": "python",
   "name": "python3"
  },
  "language_info": {
   "codemirror_mode": {
    "name": "ipython",
    "version": 3
   },
   "file_extension": ".py",
   "mimetype": "text/x-python",
   "name": "python",
   "nbconvert_exporter": "python",
   "pygments_lexer": "ipython3",
   "version": "3.10.8"
  }
 },
 "nbformat": 4,
 "nbformat_minor": 5
}
