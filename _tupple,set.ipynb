{
 "cells": [
  {
   "cell_type": "code",
   "execution_count": 1,
   "id": "04bf7132-8b84-414f-8b56-5fa231e85908",
   "metadata": {},
   "outputs": [],
   "source": [
    "t=('sona',12,23,45,54,21)"
   ]
  },
  {
   "cell_type": "code",
   "execution_count": 2,
   "id": "4a61e72d-6000-4189-8ea0-99c9c9461f0f",
   "metadata": {},
   "outputs": [
    {
     "data": {
      "text/plain": [
       "('sona', 12, 23, 45, 54, 21)"
      ]
     },
     "execution_count": 2,
     "metadata": {},
     "output_type": "execute_result"
    }
   ],
   "source": [
    "t"
   ]
  },
  {
   "cell_type": "code",
   "execution_count": 3,
   "id": "a3c04da2-ec92-46c0-8021-8c64eb1b4c09",
   "metadata": {},
   "outputs": [
    {
     "data": {
      "text/plain": [
       "21"
      ]
     },
     "execution_count": 3,
     "metadata": {},
     "output_type": "execute_result"
    }
   ],
   "source": [
    "t[-1]"
   ]
  },
  {
   "cell_type": "code",
   "execution_count": 4,
   "id": "a3136938-fcc1-46fd-a00b-64650ad619c6",
   "metadata": {},
   "outputs": [
    {
     "data": {
      "text/plain": [
       "(21, 54, 45, 23, 12, 'sona')"
      ]
     },
     "execution_count": 4,
     "metadata": {},
     "output_type": "execute_result"
    }
   ],
   "source": [
    "t[::-1]"
   ]
  },
  {
   "cell_type": "code",
   "execution_count": 5,
   "id": "efe89dfa-07d9-4df0-99b4-261a1de80a27",
   "metadata": {},
   "outputs": [
    {
     "data": {
      "text/plain": [
       "('sona', 12, 23, 45, 54, 21)"
      ]
     },
     "execution_count": 5,
     "metadata": {},
     "output_type": "execute_result"
    }
   ],
   "source": [
    "t"
   ]
  },
  {
   "cell_type": "code",
   "execution_count": 7,
   "id": "ca522e0a-2ee0-4c26-ae86-6a0641b86707",
   "metadata": {},
   "outputs": [
    {
     "data": {
      "text/plain": [
       "1"
      ]
     },
     "execution_count": 7,
     "metadata": {},
     "output_type": "execute_result"
    }
   ],
   "source": [
    "t.count(54)"
   ]
  },
  {
   "cell_type": "code",
   "execution_count": 8,
   "id": "ee8f2d09-fac9-4f03-ade0-e7840087c368",
   "metadata": {},
   "outputs": [
    {
     "data": {
      "text/plain": [
       "1"
      ]
     },
     "execution_count": 8,
     "metadata": {},
     "output_type": "execute_result"
    }
   ],
   "source": [
    "t.index(12)"
   ]
  },
  {
   "cell_type": "code",
   "execution_count": 14,
   "id": "3c56d859-0efd-458c-83ae-5283d204a144",
   "metadata": {},
   "outputs": [],
   "source": [
    "s={'sonal',23,True,False,(1,2,3,4)}"
   ]
  },
  {
   "cell_type": "code",
   "execution_count": 10,
   "id": "f10b986e-bd82-485a-9f69-fc114241bc53",
   "metadata": {},
   "outputs": [
    {
     "data": {
      "text/plain": [
       "set"
      ]
     },
     "execution_count": 10,
     "metadata": {},
     "output_type": "execute_result"
    }
   ],
   "source": [
    "type(s)"
   ]
  },
  {
   "cell_type": "code",
   "execution_count": 11,
   "id": "df751524-1efd-4185-82d8-414a646dc9d4",
   "metadata": {},
   "outputs": [],
   "source": [
    "s1={}"
   ]
  },
  {
   "cell_type": "code",
   "execution_count": 12,
   "id": "9c35bcf2-db62-4b37-a607-cf156c988099",
   "metadata": {},
   "outputs": [
    {
     "data": {
      "text/plain": [
       "dict"
      ]
     },
     "execution_count": 12,
     "metadata": {},
     "output_type": "execute_result"
    }
   ],
   "source": [
    "type(s1)"
   ]
  },
  {
   "cell_type": "code",
   "execution_count": 13,
   "id": "67c6fb08-20e4-4e16-8d63-97072a63da08",
   "metadata": {},
   "outputs": [
    {
     "ename": "TypeError",
     "evalue": "'set' object is not subscriptable",
     "output_type": "error",
     "traceback": [
      "\u001b[0;31m---------------------------------------------------------------------------\u001b[0m",
      "\u001b[0;31mTypeError\u001b[0m                                 Traceback (most recent call last)",
      "Cell \u001b[0;32mIn[13], line 1\u001b[0m\n\u001b[0;32m----> 1\u001b[0m \u001b[43ms\u001b[49m\u001b[43m[\u001b[49m\u001b[38;5;241;43m2\u001b[39;49m\u001b[43m]\u001b[49m\n",
      "\u001b[0;31mTypeError\u001b[0m: 'set' object is not subscriptable"
     ]
    }
   ],
   "source": [
    "s[2]"
   ]
  },
  {
   "cell_type": "code",
   "execution_count": 15,
   "id": "2de78a7c-71ae-4423-99d2-4e417a762ce8",
   "metadata": {},
   "outputs": [
    {
     "data": {
      "text/plain": [
       "{(1, 2, 3, 4), 23, False, True, 'sonal'}"
      ]
     },
     "execution_count": 15,
     "metadata": {},
     "output_type": "execute_result"
    }
   ],
   "source": [
    "s"
   ]
  },
  {
   "cell_type": "code",
   "execution_count": 20,
   "id": "fd56199e-ecd4-418e-8baa-936f7b1a68ac",
   "metadata": {},
   "outputs": [],
   "source": [
    "s={1,2,3,2,5,6,7,8,9,8,7,6,3,4,5,6,7,8,98,'sona','Sona'}"
   ]
  },
  {
   "cell_type": "code",
   "execution_count": 17,
   "id": "22860c63-ee21-4dd4-a7fd-0b3ff7fb6a6f",
   "metadata": {},
   "outputs": [
    {
     "data": {
      "text/plain": [
       "{1, 2, 3, 4, 5, 6, 7, 8, 9, 98}"
      ]
     },
     "execution_count": 17,
     "metadata": {},
     "output_type": "execute_result"
    }
   ],
   "source": [
    "s"
   ]
  },
  {
   "cell_type": "code",
   "execution_count": 19,
   "id": "5f19e37b-ab60-493b-88c1-dd0ca06b1494",
   "metadata": {},
   "outputs": [
    {
     "data": {
      "text/plain": [
       "{1, 2, 3, 4, 5, 6, 7, 8, 9, 98, 'sona'}"
      ]
     },
     "execution_count": 19,
     "metadata": {},
     "output_type": "execute_result"
    }
   ],
   "source": [
    "s"
   ]
  },
  {
   "cell_type": "code",
   "execution_count": 21,
   "id": "bc96f055-2db6-4335-afab-0884fdadcf9f",
   "metadata": {},
   "outputs": [
    {
     "data": {
      "text/plain": [
       "{1, 2, 3, 4, 5, 6, 7, 8, 9, 98, 'Sona', 'sona'}"
      ]
     },
     "execution_count": 21,
     "metadata": {},
     "output_type": "execute_result"
    }
   ],
   "source": [
    "s"
   ]
  },
  {
   "cell_type": "code",
   "execution_count": 22,
   "id": "1428526b-82f4-4300-9ad9-81b0139754bf",
   "metadata": {},
   "outputs": [],
   "source": [
    "l=[1,2,3,4,5,6,7,6,5,4,4,3,3]"
   ]
  },
  {
   "cell_type": "code",
   "execution_count": 23,
   "id": "80e918e8-3d71-4ba6-a13f-1a9563f02d62",
   "metadata": {},
   "outputs": [
    {
     "data": {
      "text/plain": [
       "{1, 2, 3, 4, 5, 6, 7}"
      ]
     },
     "execution_count": 23,
     "metadata": {},
     "output_type": "execute_result"
    }
   ],
   "source": [
    "set(l)"
   ]
  },
  {
   "cell_type": "code",
   "execution_count": 24,
   "id": "5aad0848-8e3b-4352-a8a8-2cf8a365d582",
   "metadata": {},
   "outputs": [],
   "source": [
    "l=list(set(l))"
   ]
  },
  {
   "cell_type": "code",
   "execution_count": 25,
   "id": "1877fbcf-030e-4d9a-8aeb-3e2cbd271a50",
   "metadata": {},
   "outputs": [
    {
     "data": {
      "text/plain": [
       "[1, 2, 3, 4, 5, 6, 7]"
      ]
     },
     "execution_count": 25,
     "metadata": {},
     "output_type": "execute_result"
    }
   ],
   "source": [
    "l"
   ]
  },
  {
   "cell_type": "code",
   "execution_count": 26,
   "id": "8f8e1ff5-91b8-48f7-86e4-8c2809f1a0b2",
   "metadata": {},
   "outputs": [],
   "source": [
    "ss={'seeta',12,3,4,45,6,7,86,43,True}"
   ]
  },
  {
   "cell_type": "code",
   "execution_count": 27,
   "id": "709c4b7d-f24e-4788-a1b7-4cc4755124f8",
   "metadata": {},
   "outputs": [
    {
     "data": {
      "text/plain": [
       "{12, 3, 4, 43, 45, 6, 7, 86, True, 'seeta'}"
      ]
     },
     "execution_count": 27,
     "metadata": {},
     "output_type": "execute_result"
    }
   ],
   "source": [
    "ss"
   ]
  },
  {
   "cell_type": "code",
   "execution_count": 28,
   "id": "f3dee9c0-a892-4b50-9203-a93fcf853a21",
   "metadata": {},
   "outputs": [
    {
     "data": {
      "text/plain": [
       "{12, 3, 4, 43, 45, 6, 7, 86, True, 'seeta'}"
      ]
     },
     "execution_count": 28,
     "metadata": {},
     "output_type": "execute_result"
    }
   ],
   "source": [
    "ss"
   ]
  },
  {
   "cell_type": "code",
   "execution_count": 29,
   "id": "0ae83c42-68c1-40a2-845a-a059e7859010",
   "metadata": {},
   "outputs": [],
   "source": [
    "ss.add(93)"
   ]
  },
  {
   "cell_type": "code",
   "execution_count": 30,
   "id": "a70157bc-f607-4d16-9ae9-4509e90777d2",
   "metadata": {},
   "outputs": [
    {
     "data": {
      "text/plain": [
       "{12, 3, 4, 43, 45, 6, 7, 86, 93, True, 'seeta'}"
      ]
     },
     "execution_count": 30,
     "metadata": {},
     "output_type": "execute_result"
    }
   ],
   "source": [
    "ss"
   ]
  },
  {
   "cell_type": "code",
   "execution_count": 32,
   "id": "741a6e84-8616-4b61-9cb0-dd63f283e84c",
   "metadata": {},
   "outputs": [],
   "source": [
    "ss.remove(3,)"
   ]
  },
  {
   "cell_type": "code",
   "execution_count": 33,
   "id": "6ddfc03e-10e5-4a13-b311-b1ee08c627b7",
   "metadata": {},
   "outputs": [
    {
     "data": {
      "text/plain": [
       "{12, 4, 43, 45, 6, 7, 86, 93, True, 'seeta'}"
      ]
     },
     "execution_count": 33,
     "metadata": {},
     "output_type": "execute_result"
    }
   ],
   "source": [
    "ss"
   ]
  },
  {
   "cell_type": "code",
   "execution_count": null,
   "id": "6d9cfad9-f0a1-4dfb-813c-e0646a8509c0",
   "metadata": {},
   "outputs": [],
   "source": []
  }
 ],
 "metadata": {
  "kernelspec": {
   "display_name": "Python 3 (ipykernel)",
   "language": "python",
   "name": "python3"
  },
  "language_info": {
   "codemirror_mode": {
    "name": "ipython",
    "version": 3
   },
   "file_extension": ".py",
   "mimetype": "text/x-python",
   "name": "python",
   "nbconvert_exporter": "python",
   "pygments_lexer": "ipython3",
   "version": "3.10.8"
  }
 },
 "nbformat": 4,
 "nbformat_minor": 5
}
